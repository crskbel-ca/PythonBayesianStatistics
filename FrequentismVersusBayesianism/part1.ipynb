{
 "cells": [
  {
   "cell_type": "code",
   "execution_count": 5,
   "metadata": {
    "collapsed": true
   },
   "outputs": [],
   "source": [
    "# http://jakevdp.github.io/blog/2014/03/11/frequentism-\n",
    "# and-bayesianism-a-practical-intro/\n",
    "\n",
    "\n",
    "# Generating simple photon count data\n",
    "import numpy as np\n",
    "from scipy import stats"
   ]
  },
  {
   "cell_type": "code",
   "execution_count": 25,
   "metadata": {},
   "outputs": [
    {
     "name": "stdout",
     "output_type": "stream",
     "text": [
      "F = [ 992  962  968  991  993  970  992  961  983 1042  947  966  951 1079 1018\n 1017  979  953 1050  980  971  999 1007 1008  953 1018  928 1015 1067 1049\n  961  991 1058 1024 1044 1024  978  993 1015  956  995  992 1049  984 1044\n 1050  966 1060  939 1020],\n\ne = [ 31.4960315   31.01612484  31.11269837  31.48015248  31.51190251\n  31.144823    31.4960315   31.          31.35283081  32.28002478\n  30.77336511  31.08054054  30.83828789  32.84813541  31.90611227\n  31.89043744  31.28897569  30.87069808  32.40370349  31.30495168\n  31.1608729   31.60696126  31.73326331  31.74901573  30.87069808\n  31.90611227  30.46309242  31.85906464  32.66496594  32.38826948  31.\n  31.48015248  32.52691193  32.          32.31098884  32.          31.27299154\n  31.51190251  31.85906464  30.91924967  31.54362059  31.4960315\n  32.38826948  31.36877428  32.31098884  32.40370349  31.08054054\n  32.55764119  30.64310689  31.93743885]\n"
     ]
    }
   ],
   "source": [
    "np.random.seed(1)\n",
    "F_true = 1000\n",
    "N = 50 # number of measurements\n",
    "F = stats.poisson(F_true).rvs(N)  # N measurements of flux\n",
    "e = np.sqrt(F) # errors on Poisson counts estimated with sqrt rule. \n",
    "print(\"F = {0},\\n\\ne = {1}\".format(F, e))"
   ]
  },
  {
   "cell_type": "code",
   "execution_count": 26,
   "metadata": {},
   "outputs": [
    {
     "data": {
      "text/plain": [
       "<matplotlib.text.Text at 0x7fbe761a7b38>"
      ]
     },
     "execution_count": 26,
     "metadata": {},
     "output_type": "execute_result"
    },
    {
     "data": {
      "image/png": "[encoded data removed]",
      "text/plain": [
       "<matplotlib.figure.Figure at 0x7fbe76220320>"
      ]
     },
     "metadata": {},
     "output_type": "display_data"
    }
   ],
   "source": [
    "%matplotlib inline\n",
    "import matplotlib.pyplot as plt\n",
    "\n",
    "fig, ax = plt.subplots()\n",
    "ax.set_facecolor('white') # already the default\n",
    "plt.gcf().set_facecolor('white') # axes bg color \n",
    "ax.errorbar(F, np.arange(N), xerr=e, fmt='ok', ecolor='magenta', alpha=0.7)\n",
    "ax.vlines([F_true], 0, N, linewidth=5, alpha=0.2)\n",
    "ax.set_xlabel(\"Flux\")\n",
    "ax.set_ylabel(\"Measurement Number\")"
   ]
  },
  {
   "cell_type": "code",
   "execution_count": null,
   "metadata": {},
   "outputs": [],
   "source": [
    "# GOAL QUESTION: Given our measurements and errors what is the best\n",
    "# estimate of the true flux?"
   ]
  },
  {
   "cell_type": "code",
   "execution_count": null,
   "metadata": {},
   "outputs": [],
   "source": [
    "# note: FREQUENTIST APPROACH TO PHOTON COUNTS"
   ]
  },
  {
   "cell_type": "code",
   "execution_count": 28,
   "metadata": {},
   "outputs": [
    {
     "name": "stdout",
     "output_type": "stream",
     "text": [
      " \n      F_true = 1000\n      F_est = 998 +/- 4 (based on 50 measurements)\n      \n"
     ]
    }
   ],
   "source": [
    "# Di = (Fi, ei) = single observation\n",
    "# P(Di | F_true) = normal density, mean = F_true, stddev = ei\n",
    "# Likelihood function: product of P(Di | F_true) for each data point, i.\n",
    "# better to compute log likelihood since likelihood values are small.\n",
    "# likelihood maximized => derivative set to zero => F_est = 1/ei^2\n",
    "# error of F_est is stdev_est = 1/sqrt((sum wi))\n",
    "\n",
    "# value of trueFlux such that likelihood is maximized\n",
    "# results in wi = 1/ei^2\n",
    "w = 1. / e**2\n",
    "print(\"\"\" \n",
    "      F_true = {0}\n",
    "      F_est = {1:.0f} +/- {2:.0f} (based on {3} measurements)\n",
    "      \"\"\".format(F_true, \n",
    "                 sum(w * F) / sum(w),\n",
    "                 sum(w)**-0.5,  # error estimate of 0.4%\n",
    "                 N))\n",
    "# w.sum()**(-0.5) # this is the stdeviation."
   ]
  },
  {
   "cell_type": "code",
   "execution_count": null,
   "metadata": {},
   "outputs": [],
   "source": [
    "# Conclusion: for 50 measurements of the flux our estimate\n",
    "# F_est is around 998 and has error (stdev) of 0.4%."
   ]
  },
  {
   "cell_type": "code",
   "execution_count": null,
   "metadata": {},
   "outputs": [],
   "source": [
    ""
   ]
  },
  {
   "cell_type": "code",
   "execution_count": null,
   "metadata": {},
   "outputs": [],
   "source": [
    "## BAYESIAN APPROACH TO PHOTON COUNTS\n",
    "\n",
    "# want to find: P(F_true | D) --- frequentism statistics says this has no\n",
    "# meaning because probabilities have no meaning for model parameters.\n",
    "\n",
    "# P(F_true | D) = P(F_true) * P(D | F_true) / P(D)\n",
    "\n",
    "# P(F_true) = model prior, better to make this choice explicit and include\n",
    "# some subjectivity rather than skirting the question. \n",
    "# P(D) = data probability, normalization term. \n",
    "# P(D | F_true) = likelihood\n",
    "# P(F_true | D) = posterior, probability of model params given data.\n",
    "\n",
    "# Goal: use emcee (MCMC sampling) to generate data points drawn from \n",
    "# posterior distribution and use those to determine the answer. "
   ]
  },
  {
   "cell_type": "code",
   "execution_count": 29,
   "metadata": {},
   "outputs": [],
   "source": [
    "def logPrior(theta): # theta = H = hypothesis = F_true \n",
    "    return 1 # flat prior \n",
    "\n",
    "def logLikelihood(theta, F, e): # theta = Hypo\n",
    "    return -0.5 * np.sum(np.log(2 * np.pi * e ** 2)\n",
    "                         + (F - theta[0]) ** 2 / e ** 2)\n",
    "\n",
    "def logPosterior(theta, F, e):\n",
    "    # adding means multiplication on real number line. \n",
    "    return logPrior(theta) + logLikelihood(theta, F, e)"
   ]
  },
  {
   "cell_type": "code",
   "execution_count": 30,
   "metadata": {},
   "outputs": [],
   "source": [
    "## generating some random starting guesses\n",
    "ndim = 1 # num parameters in model \n",
    "nwalkers = 50 # number of MCMC walkers\n",
    "nburn = 1000 # burn in period to let chains stabilize\n",
    "nsteps = 2000 # number of MCMC steps to take\n",
    "\n",
    "\n",
    "# start at random locations between 0 and 20\n",
    "startingGuesses = 2000 * np.random.rand(nwalkers, ndim)\n",
    "\n",
    "import emcee\n",
    "sampler = emcee.EnsembleSampler(nwalkers, ndim, logPosterior, args=[F, e])\n",
    "sampler.run_mcmc(startingGuesses, nsteps)\n",
    "\n",
    "sample = sampler.chain # shape = (nwalkers, nsteps, ndim)\n",
    "sample = sampler.chain[:, nburn:, :].ravel() # discard burn-in points"
   ]
  },
  {
   "cell_type": "code",
   "execution_count": 36,
   "metadata": {},
   "outputs": [
    {
     "data": {
      "text/plain": [
       "<matplotlib.text.Text at 0x7fbe75ee7b38>"
      ]
     },
     "execution_count": 36,
     "metadata": {},
     "output_type": "execute_result"
    },
    {
     "data": {
      "image/png": "[encoded data removed]",
      "text/plain": [
       "<matplotlib.figure.Figure at 0x7fbe75ef38d0>"
      ]
     },
     "metadata": {},
     "output_type": "display_data"
    }
   ],
   "source": [
    "# plot histogram of the sample (sample contains 50000 points drawn from\n",
    "# the posterior). \n",
    "plt.gcf().set_facecolor('white') # axes bg color \n",
    "plt.hist(sample, bins=50, histtype=\"stepfilled\", alpha=0.5, normed=True)\n",
    "\n",
    "# plot a best-fit Gaussian\n",
    "F_fit = np.linspace(975, 1025)\n",
    "pdf = stats.norm(np.mean(sample), np.std(sample)).pdf(F_fit)\n",
    "\n",
    "plt.plot(F_fit, pdf, \"-k\")\n",
    "plt.xlabel(\"F\")\n",
    "plt.ylabel(\"P(F)\")"
   ]
  },
  {
   "cell_type": "code",
   "execution_count": null,
   "metadata": {},
   "outputs": [],
   "source": [
    ""
   ]
  },
  {
   "cell_type": "code",
   "execution_count": null,
   "metadata": {},
   "outputs": [],
   "source": [
    ""
   ]
  },
  {
   "cell_type": "code",
   "execution_count": null,
   "metadata": {},
   "outputs": [],
   "source": [
    ""
   ]
  }
 ],
 "metadata": {
  "kernelspec": {
   "display_name": "Python 2",
   "language": "python",
   "name": "python2"
  },
  "language_info": {
   "codemirror_mode": {
    "name": "ipython",
    "version": 2.0
   },
   "file_extension": ".py",
   "mimetype": "text/x-python",
   "name": "python",
   "nbconvert_exporter": "python",
   "pygments_lexer": "ipython2",
   "version": "2.7.6"
  }
 },
 "nbformat": 4,
 "nbformat_minor": 0
}