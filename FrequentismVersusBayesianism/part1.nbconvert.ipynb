{
 "cells": [
  {
   "cell_type": "code",
   "execution_count": 3,
   "metadata": {},
   "outputs": [],
   "source": [
    "# http://jakevdp.github.io/blog/2014/03/11/frequentism-\n",
    "# and-bayesianism-a-practical-intro/\n",
    "\n",
    "# Generating simple photon count data\n",
    "import numpy as np\n",
    "from scipy import stats"
   ]
  },
  {
   "cell_type": "code",
   "execution_count": 4,
   "metadata": {},
   "outputs": [
    {
     "data": {
      "text/plain": [
       "[array([ 992,  962,  968,  991,  993,  970,  992,  961,  983, 1042,  947,\n",
       "         966,  951, 1079, 1018, 1017,  979,  953, 1050,  980,  971,  999,\n",
       "        1007, 1008,  953, 1018,  928, 1015, 1067, 1049,  961,  991, 1058,\n",
       "        1024, 1044, 1024,  978,  993, 1015,  956,  995,  992, 1049,  984,\n",
       "        1044, 1050,  966, 1060,  939, 1020]),\n",
       " array([ 31.4960315 ,  31.01612484,  31.11269837,  31.48015248,\n",
       "         31.51190251,  31.144823  ,  31.4960315 ,  31.        ,\n",
       "         31.35283081,  32.28002478,  30.77336511,  31.08054054,\n",
       "         30.83828789,  32.84813541,  31.90611227,  31.89043744,\n",
       "         31.28897569,  30.87069808,  32.40370349,  31.30495168,\n",
       "         31.1608729 ,  31.60696126,  31.73326331,  31.74901573,\n",
       "         30.87069808,  31.90611227,  30.46309242,  31.85906464,\n",
       "         32.66496594,  32.38826948,  31.        ,  31.48015248,\n",
       "         32.52691193,  32.        ,  32.31098884,  32.        ,\n",
       "         31.27299154,  31.51190251,  31.85906464,  30.91924967,\n",
       "         31.54362059,  31.4960315 ,  32.38826948,  31.36877428,\n",
       "         32.31098884,  32.40370349,  31.08054054,  32.55764119,\n",
       "         30.64310689,  31.93743885])]"
      ]
     },
     "execution_count": 4,
     "output_type": "execute_result",
     "metadata": {}
    }
   ],
   "source": [
    "np.random.seed(1)\n",
    "trueFlux = 1000\n",
    "N = 50 # number of measurements\n",
    "F = stats.poisson(trueFlux).rvs(N)  # N measurements of flux\n",
    "e = np.sqrt(F) # errors on Poisson counts estimated with sqrt\n",
    "[F, e]"
   ]
  },
  {
   "cell_type": "code",
   "execution_count": 5,
   "metadata": {},
   "outputs": [
    {
     "data": {
      "text/plain": [
       "<matplotlib.text.Text at 0x7fbe88afba58>"
      ]
     },
     "execution_count": 5,
     "output_type": "execute_result",
     "metadata": {}
    },
    {
     "data": {
      "image/png": "[encoded data removed]"
     },
     "output_type": "display_data",
     "metadata": {}
    }
   ],
   "source": [
    "%matplotlib inline\n",
    "import matplotlib.pyplot as plt\n",
    "\n",
    "fig, ax = plt.subplots()\n",
    "ax.set_axis_bgcolor('white') # already the default\n",
    "plt.gcf().set_facecolor('white') # axes bg color \n",
    "ax.errorbar(F, np.arange(N), xerr=e, fmt='ok', \n",
    "            ecolor='gray', alpha=0.5)\n",
    "ax.vlines([trueFlux], 0, N, linewidth=5, alpha=0.2)\n",
    "ax.set_xlabel(\"Flux\")\n",
    "ax.set_ylabel(\"Measurement Number\")"
   ]
  },
  {
   "cell_type": "code",
   "execution_count": 5,
   "metadata": {},
   "outputs": [],
   "source": [
    "# Given our measurements and errors what is the best\n",
    "# estimate of the true flux?"
   ]
  },
  {
   "cell_type": "code",
   "execution_count": 5,
   "metadata": {},
   "outputs": [],
   "source": [
    "# FREQUENTIST APPROACH TO PHOTON COUNTS"
   ]
  },
  {
   "cell_type": "code",
   "execution_count": 8,
   "metadata": {},
   "outputs": [
    {
     "name": "stdout",
     "output_type": "stream",
     "text": [
      " \n",
      "      F_true = 1000\n",
      "      F_est = 998 +/- 4 (based on 50 measurements)\n",
      "      \n"
     ]
    }
   ],
   "source": [
    "# value of trueFlux such that likelihood is maximized\n",
    "# results in wi = 1/ei^2\n",
    "w = 1. / e**2\n",
    "print(\"\"\" \n",
    "      F_true = {0}\n",
    "      F_est = {1:.0f} +/- {2:.0f} (based on {3} measurements)\n",
    "      \"\"\".format(trueFlux, (w * F).sum() / w.sum(), \n",
    "                 w.sum()**-0.5, N)  )\n",
    "# w.sum()**(-0.5) # this is the stdeviation."
   ]
  },
  {
   "cell_type": "code",
   "execution_count": 9,
   "metadata": {},
   "outputs": [],
   "source": [
    "# Conclusion: for 50 measurements of the flux our estimate\n",
    "# F_est is around 998 and has error (stdev) of 0.4%."
   ]
  },
  {
   "cell_type": "code",
   "execution_count": null,
   "metadata": {},
   "outputs": [],
   "source": [
    ""
   ]
  },
  {
   "cell_type": "code",
   "execution_count": null,
   "metadata": {},
   "outputs": [],
   "source": [
    "## BAYESIAN APPROACH TO PHOTON COUNTS"
   ]
  },
  {
   "cell_type": "code",
   "execution_count": 11,
   "metadata": {},
   "outputs": [],
   "source": [
    "def logPrior(theta): \n",
    "    return 1 # flat prior \n",
    "\n",
    "def logLikelihood(theta, F, e): \n",
    "    return -0.5 * np.sum(np.log(2 * np.pi * e ** 2)\n",
    "                        + (F - theta[0]) ** 2 / e ** 2)\n",
    "    \n",
    "def logPosterior(theta, F, e):\n",
    "    return logPrior(theta) + logLikelihood(theta, F, e)"
   ]
  },
  {
   "cell_type": "code",
   "execution_count": 15,
   "metadata": {},
   "outputs": [
    {
     "ename": "ImportError",
     "evalue": "No module named 'emcee'",
     "output_type": "error",
     "traceback": [
      "\u001b[1;31m---------------------------------------------------------------------------\u001b[0m",
      "\u001b[1;31mImportError\u001b[0m                               Traceback (most recent call last)",
      "\u001b[1;32m<ipython-input-15-a24dfac480ac>\u001b[0m in \u001b[0;36m<module>\u001b[1;34m()\u001b[0m\n\u001b[0;32m      9\u001b[0m \u001b[0mstartingGuesses\u001b[0m \u001b[1;33m=\u001b[0m \u001b[1;36m2000\u001b[0m \u001b[1;33m*\u001b[0m \u001b[0mnp\u001b[0m\u001b[1;33m.\u001b[0m\u001b[0mrandom\u001b[0m\u001b[1;33m.\u001b[0m\u001b[0mrand\u001b[0m\u001b[1;33m(\u001b[0m\u001b[0mnwalkers\u001b[0m\u001b[1;33m,\u001b[0m \u001b[0mndim\u001b[0m\u001b[1;33m)\u001b[0m\u001b[1;33m\u001b[0m\u001b[0m\n\u001b[0;32m     10\u001b[0m \u001b[1;33m\u001b[0m\u001b[0m\n\u001b[1;32m---> 11\u001b[1;33m \u001b[1;32mimport\u001b[0m \u001b[0memcee\u001b[0m\u001b[1;33m\u001b[0m\u001b[0m\n\u001b[0m\u001b[0;32m     12\u001b[0m sampler = emcee.EnsembleSampler(nwalkers, ndim, logPosterior,\n\u001b[0;32m     13\u001b[0m                                 args = [F, e])\n",
      "\u001b[1;31mImportError\u001b[0m: No module named 'emcee'"
     ]
    }
   ],
   "source": [
    "## generating some random starting guesses\n",
    "ndim = 1 # num parameters in model \n",
    "nwalkers = 50 # number of MCMC walkers\n",
    "nburn = 1000 # burn in period to let chains stabilize\n",
    "nsteps = 2000 # number of MCMC steps to take\n",
    "\n",
    "\n",
    "# start at random locations between 0 and 20\n",
    "startingGuesses = 2000 * np.random.rand(nwalkers, ndim)\n",
    "\n",
    "import emcee \n",
    "sampler = emcee.EnsembleSampler(nwalkers, ndim, logPosterior,\n",
    "                                args = [F, e])\n",
    "sampler.run_mcm(startingGuesses, nsteps)\n",
    "\n",
    "sample = sampler.chain # shape = (nwalkers, nsteps, ndim)\n",
    "sample = sampler.chain[:, nburn:, :].ravel() # discard burn-\n",
    "# in points"
   ]
  },
  {
   "cell_type": "code",
   "execution_count": null,
   "metadata": {},
   "outputs": [],
   "source": [
    ""
   ]
  },
  {
   "cell_type": "code",
   "execution_count": null,
   "metadata": {},
   "outputs": [],
   "source": [
    ""
   ]
  },
  {
   "cell_type": "code",
   "execution_count": null,
   "metadata": {},
   "outputs": [],
   "source": [
    ""
   ]
  },
  {
   "cell_type": "code",
   "execution_count": null,
   "metadata": {},
   "outputs": [],
   "source": [
    ""
   ]
  },
  {
   "cell_type": "code",
   "execution_count": null,
   "metadata": {},
   "outputs": [],
   "source": [
    ""
   ]
  }
 ],
 "metadata": {
  "kernelspec": {
   "display_name": "Python 3",
   "language": "python",
   "name": "python3"
  },
  "language_info": {
   "codemirror_mode": {
    "name": "ipython",
    "version": 3.0
   },
   "file_extension": ".py",
   "mimetype": "text/x-python",
   "name": "python",
   "nbconvert_exporter": "python",
   "pygments_lexer": "ipython3",
   "version": "3.4.4"
  }
 },
 "nbformat": 4,
 "nbformat_minor": 0
}