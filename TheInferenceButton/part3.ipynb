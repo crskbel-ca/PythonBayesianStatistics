{
 "cells": [
  {
   "cell_type": "code",
   "execution_count": 1,
   "metadata": {},
   "outputs": [],
   "source": [
    "%matplotlib inline \n",
    "import matplotlib.pyplot as plt \n",
    "import numpy as np \n",
    "import pymc3 as pm \n",
    "import pandas as pd\n",
    "\n",
    "data = pd.read_csv('radon.csv')\n",
    "county_names = data.county.unique() \n",
    "countyidx = data['county_code'].values \n",
    "n_counties = len(data.county.unique())"
   ]
  },
  {
   "cell_type": "code",
   "execution_count": 2,
   "metadata": {},
   "outputs": [
    {
     "data": {
      "text/html": [
       "<div style=\"max-height:1000px;max-width:1500px;overflow:auto;\">\n",
       "<table border=\"1\" class=\"dataframe\">\n",
       "  <thead>\n",
       "    <tr style=\"text-align: right;\">\n",
       "      <th></th>\n",
       "      <th>county</th>\n",
       "      <th>log_radon</th>\n",
       "      <th>floor</th>\n",
       "    </tr>\n",
       "  </thead>\n",
       "  <tbody>\n",
       "    <tr>\n",
       "      <th>0</th>\n",
       "      <td> AITKIN</td>\n",
       "      <td> 0.832909</td>\n",
       "      <td> 1</td>\n",
       "    </tr>\n",
       "    <tr>\n",
       "      <th>1</th>\n",
       "      <td> AITKIN</td>\n",
       "      <td> 0.832909</td>\n",
       "      <td> 0</td>\n",
       "    </tr>\n",
       "    <tr>\n",
       "      <th>2</th>\n",
       "      <td> AITKIN</td>\n",
       "      <td> 1.098612</td>\n",
       "      <td> 0</td>\n",
       "    </tr>\n",
       "    <tr>\n",
       "      <th>3</th>\n",
       "      <td> AITKIN</td>\n",
       "      <td> 0.095310</td>\n",
       "      <td> 0</td>\n",
       "    </tr>\n",
       "    <tr>\n",
       "      <th>4</th>\n",
       "      <td>  ANOKA</td>\n",
       "      <td> 1.163151</td>\n",
       "      <td> 0</td>\n",
       "    </tr>\n",
       "  </tbody>\n",
       "</table>\n",
       "</div>"
      ]
     },
     "output_type": "execute_result",
     "metadata": {}
    }
   ],
   "source": [
    "data[['county', 'log_radon', 'floor']].head()"
   ]
  },
  {
   "cell_type": "code",
   "execution_count": 3,
   "metadata": {},
   "outputs": [],
   "source": [
    "### Question: whether basement increases radon in house"
   ]
  },
  {
   "cell_type": "code",
   "execution_count": null,
   "metadata": {},
   "outputs": [
    {
     "name": "stderr",
     "output_type": "stream",
     "text": [
      "ERROR (theano.gof.opt): SeqOptimizer apply <theano.tensor.opt.FusionOptimizer object at 0x7fd2caf23c50>\n",
      "ERROR:theano.gof.opt:SeqOptimizer apply <theano.tensor.opt.FusionOptimizer object at 0x7fd2caf23c50>\n",
      "ERROR (theano.gof.opt): Traceback:\n",
      "ERROR:theano.gof.opt:Traceback:\n",
      "ERROR (theano.gof.opt): Traceback (most recent call last):\n",
      "  File \"/datascience/bin/python/anaconda3/lib/python3.4/site-packages/theano/gof/opt.py\", line 196, in apply\n",
      "    sub_prof = optimizer.optimize(fgraph)\n",
      "  File \"/datascience/bin/python/anaconda3/lib/python3.4/site-packages/theano/gof/opt.py\", line 82, in optimize\n",
      "    ret = self.apply(fgraph, *args, **kwargs)\n",
      "  File \"/datascience/bin/python/anaconda3/lib/python3.4/site-packages/theano/tensor/opt.py\", line 5499, in apply\n",
      "    new_outputs = self.optimizer(node)\n",
      "  File \"/datascience/bin/python/anaconda3/lib/python3.4/site-packages/theano/tensor/opt.py\", line 5434, in local_fuse\n",
      "    n = OP(C)(*inputs).owner\n",
      "  File \"/datascience/bin/python/anaconda3/lib/python3.4/site-packages/theano/tensor/elemwise.py\", line 496, in __init__\n",
      "    scalar_op.nout)\n",
      "ValueError: Cannot construct a ufunc with more than 32 operands (requested number were: inputs = 51 and outputs = 1)\n",
      "\n",
      "ERROR:theano.gof.opt:Traceback (most recent call last):\n",
      "  File \"/datascience/bin/python/anaconda3/lib/python3.4/site-packages/theano/gof/opt.py\", line 196, in apply\n",
      "    sub_prof = optimizer.optimize(fgraph)\n",
      "  File \"/datascience/bin/python/anaconda3/lib/python3.4/site-packages/theano/gof/opt.py\", line 82, in optimize\n",
      "    ret = self.apply(fgraph, *args, **kwargs)\n",
      "  File \"/datascience/bin/python/anaconda3/lib/python3.4/site-packages/theano/tensor/opt.py\", line 5499, in apply\n",
      "    new_outputs = self.optimizer(node)\n",
      "  File \"/datascience/bin/python/anaconda3/lib/python3.4/site-packages/theano/tensor/opt.py\", line 5434, in local_fuse\n",
      "    n = OP(C)(*inputs).owner\n",
      "  File \"/datascience/bin/python/anaconda3/lib/python3.4/site-packages/theano/tensor/elemwise.py\", line 496, in __init__\n",
      "    scalar_op.nout)\n",
      "ValueError: Cannot construct a ufunc with more than 32 operands (requested number were: inputs = 51 and outputs = 1)\n",
      "\n"
     ]
    }
   ],
   "source": [
    "### Probabilistic programming...\n",
    "\n",
    "indiv_traces = {}\n",
    "for county_name in county_names:\n",
    "    # Select subset of data belonging to county\n",
    "    c_data = data.ix[data.county == county_name]\n",
    "    c_log_radon = c_data.log_radon\n",
    "    c_floor_measure = c_data.floor.values\n",
    "    \n",
    "    with pm.Model() as individual_model:\n",
    "        # Intercept prior (variance == sd**2)\n",
    "        a = pm.Normal('alpha', mu=0, sd=100**2)\n",
    "        # Slope prior\n",
    "        b = pm.Normal('beta', mu=0, sd=100**2)\n",
    "    \n",
    "        # Model error prior\n",
    "        eps = pm.Uniform('eps', lower=0, upper=100)\n",
    "    \n",
    "        # Linear model\n",
    "        radon_est = a + b * c_floor_measure\n",
    "    \n",
    "        # Data likelihood\n",
    "        radon_like = pm.Normal('radon_like', mu=radon_est, sd=eps, observed=c_log_radon)\n",
    "\n",
    "        # Inference button (TM)!\n",
    "        step = pm.NUTS()\n",
    "        trace = pm.sample(2000, step=step, progressbar=False)\n",
    "    \n",
    "    # keep trace for later analysis\n",
    "    indiv_traces[county_name] = trace"
   ]
  },
  {
   "cell_type": "code",
   "execution_count": null,
   "metadata": {},
   "outputs": [],
   "source": [
    "### Hierarchical Model --- makes group parameters that consider counties\n",
    "# ... as having underlying similarity. These distributions are used to influence\n",
    "# ... distribution of each county's 'a' and 'b'. \n",
    "\n",
    "with pm.Model() as hierarchical_model:\n",
    "    # Hyperpriors for group nodes\n",
    "    mu_a = pm.Normal('mu_alpha', mu=0., sd=100**2)\n",
    "    sigma_a = pm.Uniform('sigma_alpha', lower=0, upper=100)\n",
    "    mu_b = pm.Normal('mu_beta', mu=0., sd=100**2)\n",
    "    sigma_b = pm.Uniform('sigma_beta', lower=0, upper=100)\n",
    "    \n",
    "    # Intercept for each county, distributed around group mean mu_a\n",
    "    # Above we just set mu and sd to a fixed value while here we\n",
    "    # plug in a common group distribution for all a and b (which are\n",
    "    # vectors of length n_counties).\n",
    "    a = pm.Normal('alpha', mu=mu_a, sd=sigma_a, shape=n_counties)\n",
    "    # Intercept for each county, distributed around group mean mu_a\n",
    "    b = pm.Normal('beta', mu=mu_b, sd=sigma_b, shape=n_counties)\n",
    "    \n",
    "    # Model error\n",
    "    eps = pm.Uniform('eps', lower=0, upper=100)\n",
    "    \n",
    "    # Model prediction of radon level\n",
    "    # a[county_idx] translates to a[0, 0, 0, 1, 1, ...],\n",
    "    # we thus link multiple household measures of a county\n",
    "    # to its coefficients.\n",
    "    radon_est = a[county_idx] + b[county_idx] * data.floor.values\n",
    "    \n",
    "    # Data likelihood\n",
    "    radon_like = pm.Normal('radon_like', mu=radon_est, sd=eps, observed=data.log_radon)"
   ]
  },
  {
   "cell_type": "code",
   "execution_count": null,
   "metadata": {},
   "outputs": [],
   "source": [
    "# Inference button (TM)!\n",
    "with hierarchical_model:\n",
    "    start = pm.find_MAP()\n",
    "    step = pm.NUTS(scaling=start)\n",
    "    hierarchical_trace = pm.sample(2000, step, start=start, progressbar=False)"
   ]
  },
  {
   "cell_type": "code",
   "execution_count": null,
   "metadata": {},
   "outputs": [],
   "source": [
    "# Plotting the hierarchical model trace -its found values- from 500 iterations \n",
    "# onwards (right side plot) \n",
    "# and its accumulated marginal values (left side plot) \n",
    "pm.traceplot(hierarchical_trace[500:])"
   ]
  },
  {
   "cell_type": "code",
   "execution_count": null,
   "metadata": {},
   "outputs": [],
   "source": [
    ""
   ]
  },
  {
   "cell_type": "code",
   "execution_count": null,
   "metadata": {},
   "outputs": [],
   "source": [
    ""
   ]
  },
  {
   "cell_type": "code",
   "execution_count": null,
   "metadata": {},
   "outputs": [],
   "source": [
    ""
   ]
  }
 ],
 "metadata": {
  "kernelspec": {
   "display_name": "Python 3",
   "language": "python",
   "name": "python3"
  },
  "language_info": {
   "codemirror_mode": {
    "name": "ipython",
    "version": 3.0
   },
   "file_extension": ".py",
   "mimetype": "text/x-python",
   "name": "python",
   "nbconvert_exporter": "python",
   "pygments_lexer": "ipython3",
   "version": "3.4.4"
  }
 },
 "nbformat": 4,
 "nbformat_minor": 0
}